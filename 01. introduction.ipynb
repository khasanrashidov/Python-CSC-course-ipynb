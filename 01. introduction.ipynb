{
 "cells": [
  {
   "cell_type": "code",
   "execution_count": 5,
   "metadata": {},
   "outputs": [
    {
     "name": "stdout",
     "output_type": "stream",
     "text": [
      "53\n"
     ]
    },
    {
     "ename": "TypeError",
     "evalue": "add() takes 1 positional argument but 2 were given",
     "output_type": "error",
     "traceback": [
      "\u001b[1;31m---------------------------------------------------------------------------\u001b[0m",
      "\u001b[1;31mTypeError\u001b[0m                                 Traceback (most recent call last)",
      "\u001b[1;32mc:\\Users\\A\\Desktop\\ipynb\\01.beginning.ipynb Cell 1\u001b[0m in \u001b[0;36m<cell line: 13>\u001b[1;34m()\u001b[0m\n\u001b[0;32m      <a href='vscode-notebook-cell:/c%3A/Users/A/Desktop/ipynb/01.beginning.ipynb#W0sZmlsZQ%3D%3D?line=8'>9</a>\u001b[0m \u001b[39mprint\u001b[39m(add(\u001b[39m33\u001b[39m, \u001b[39m20\u001b[39m))\n\u001b[0;32m     <a href='vscode-notebook-cell:/c%3A/Users/A/Desktop/ipynb/01.beginning.ipynb#W0sZmlsZQ%3D%3D?line=10'>11</a>\u001b[0m add\u001b[39m.\u001b[39m\u001b[39m__code__\u001b[39m \u001b[39m=\u001b[39m bar\u001b[39m.\u001b[39m\u001b[39m__code__\u001b[39m\n\u001b[1;32m---> <a href='vscode-notebook-cell:/c%3A/Users/A/Desktop/ipynb/01.beginning.ipynb#W0sZmlsZQ%3D%3D?line=12'>13</a>\u001b[0m \u001b[39mprint\u001b[39m(add(\u001b[39m33\u001b[39;49m, \u001b[39m21\u001b[39;49m))\n",
      "\u001b[1;31mTypeError\u001b[0m: add() takes 1 positional argument but 2 were given"
     ]
    }
   ],
   "source": [
    "# Python is a dynamically typed interpreted language\n",
    "def add(x, y):\n",
    "    return x + y\n",
    "\n",
    "\n",
    "def bar(x):\n",
    "    add(x, \"1\", \"2\")  # it is not an error\n",
    "\n",
    "\n",
    "print(add(33, 20))\n",
    "\n",
    "add.__code__ = bar.__code__\n",
    "\n",
    "print(add(33, 21))\n"
   ]
  },
  {
   "cell_type": "code",
   "execution_count": null,
   "metadata": {},
   "outputs": [
    {
     "name": "stdout",
     "output_type": "stream",
     "text": [
      "Hello, World!\n"
     ]
    }
   ],
   "source": [
    "# modules\n",
    "import helloworld  # if module name starts with numbers, then we cannot import it\n"
   ]
  },
  {
   "cell_type": "code",
   "execution_count": 33,
   "metadata": {},
   "outputs": [
    {
     "data": {
      "text/plain": [
       "['__builtins__',\n",
       " '__cached__',\n",
       " '__doc__',\n",
       " '__file__',\n",
       " '__loader__',\n",
       " '__name__',\n",
       " '__package__',\n",
       " '__spec__',\n",
       " 'message']"
      ]
     },
     "execution_count": 33,
     "metadata": {},
     "output_type": "execute_result"
    }
   ],
   "source": [
    "dir(helloworld)\n"
   ]
  },
  {
   "cell_type": "code",
   "execution_count": 34,
   "metadata": {},
   "outputs": [
    {
     "data": {
      "text/plain": [
       "('helloworld', 'c:\\\\Users\\\\A\\\\Desktop\\\\ipynb\\\\helloworld.py')"
      ]
     },
     "execution_count": 34,
     "metadata": {},
     "output_type": "execute_result"
    }
   ],
   "source": [
    "helloworld.__name__, helloworld.__file__\n"
   ]
  },
  {
   "cell_type": "code",
   "execution_count": 35,
   "metadata": {},
   "outputs": [
    {
     "name": "stdout",
     "output_type": "stream",
     "text": [
      "Hello, World!\n"
     ]
    }
   ],
   "source": [
    "print(helloworld.message)\n"
   ]
  },
  {
   "cell_type": "code",
   "execution_count": 43,
   "metadata": {},
   "outputs": [
    {
     "name": "stdout",
     "output_type": "stream",
     "text": [
      "<class 'module'>\n",
      "<class 'type'>\n"
     ]
    }
   ],
   "source": [
    "# Everything is an object.\n",
    "import helloworld\n",
    "print(type(helloworld))\n",
    "print(type(type(helloworld)))\n"
   ]
  },
  {
   "cell_type": "code",
   "execution_count": 3,
   "metadata": {},
   "outputs": [
    {
     "name": "stdout",
     "output_type": "stream",
     "text": [
      "None\n",
      "True\n",
      "True\n"
     ]
    }
   ],
   "source": [
    "# None type\n",
    "print(None)\n",
    "print(None == None)\n",
    "print(None is None)\n"
   ]
  },
  {
   "cell_type": "code",
   "execution_count": 5,
   "metadata": {},
   "outputs": [
    {
     "name": "stdout",
     "output_type": "stream",
     "text": [
      "True\n",
      "True\n",
      "21\n"
     ]
    }
   ],
   "source": [
    "# Logical types\n",
    "to_be = False\n",
    "print(to_be or not to_be)\n",
    "print(True or print(None))  # lazy operator\n",
    "print(20 + True)\n"
   ]
  },
  {
   "cell_type": "code",
   "execution_count": 6,
   "metadata": {},
   "outputs": [
    {
     "name": "stdout",
     "output_type": "stream",
     "text": [
      "2554504530844906743628446504951489\n"
     ]
    }
   ],
   "source": [
    "# Numbers\n",
    "print(33**22)\n"
   ]
  },
  {
   "cell_type": "code",
   "execution_count": 7,
   "metadata": {},
   "outputs": [
    {
     "name": "stdout",
     "output_type": "stream",
     "text": [
      "<>..........<>\n"
     ]
    }
   ],
   "source": [
    "s = \".\" * 10\n",
    "print(\"<>\" + s + \"<>\")\n"
   ]
  },
  {
   "cell_type": "code",
   "execution_count": 8,
   "metadata": {},
   "outputs": [
    {
     "name": "stdout",
     "output_type": "stream",
     "text": [
      "foo bar\n"
     ]
    }
   ],
   "source": [
    "# String\n",
    "print(\"     foo bar    \".strip())\n"
   ]
  },
  {
   "cell_type": "code",
   "execution_count": 12,
   "metadata": {},
   "outputs": [
    {
     "name": "stdout",
     "output_type": "stream",
     "text": [
      "[]\n",
      "[]\n",
      "[0, 0, 0, 0, 0]\n",
      "[1, 2, 3, 4, 5, 6, 7]\n",
      "7\n",
      "1\n",
      "[-1, 2, 3, 4, 5, 6, 7]\n",
      "[-1, 2, 3, 4, 5, 6, 7, 33]\n",
      "[2, 3, 4, 5, 6, 7, 33]\n",
      "[2, 3, 4, 5, 6, 7]\n"
     ]
    }
   ],
   "source": [
    "# List\n",
    "print([])\n",
    "# or\n",
    "print(list())\n",
    "\n",
    "lst = [0] * 5\n",
    "print(lst)\n",
    "\n",
    "xs = [1, 2, 3, 4, 5, 6, 7]\n",
    "print(xs)\n",
    "print(len(xs))\n",
    "\n",
    "print(xs[0])\n",
    "xs[0] = -1\n",
    "print(xs)\n",
    "\n",
    "xs.append(33)\n",
    "print(xs)\n",
    "\n",
    "del xs[0]  # or xs.pop(0)\n",
    "print(xs)\n",
    "\n",
    "xs.pop()\n",
    "print(xs)\n"
   ]
  },
  {
   "cell_type": "code",
   "execution_count": 15,
   "metadata": {},
   "outputs": [
    {
     "name": "stdout",
     "output_type": "stream",
     "text": [
      "[1, 2, 3, 4, 5, 6, 7]\n",
      "foo, bar\n"
     ]
    }
   ],
   "source": [
    "# Concatenation\n",
    "xs = [1, 2, 3, 4, 5]\n",
    "xs = xs + [6, 7]\n",
    "print(xs)\n",
    "\n",
    "foobar = \", \".join([\"foo\", \"bar\"])\n",
    "print(foobar)\n"
   ]
  },
  {
   "cell_type": "code",
   "execution_count": 19,
   "metadata": {},
   "outputs": [
    {
     "name": "stdout",
     "output_type": "stream",
     "text": [
      "[1, 2]\n",
      "[3, 4, 5, 6]\n",
      "[2, 3]\n",
      "[1, 3]\n",
      "[1, 2, 3, 4, 5, 6]\n",
      "\n",
      "fo\n",
      "obar\n",
      "oo\n",
      "fo\n",
      "foobar\n"
     ]
    }
   ],
   "source": [
    "# Slices\n",
    "xs = [1, 2, 3, 4, 5, 6]\n",
    "print(xs[:2])  # [start:stop] - including start, excluding stop\n",
    "print(xs[2:])\n",
    "print(xs[1:3])\n",
    "print(xs[0:4:2])  # [start:stop:step]\n",
    "print(xs[:])  # copy of list\n",
    "\n",
    "print()\n",
    "\n",
    "s = \"foobar\"\n",
    "print(s[:2])\n",
    "print(s[2:])\n",
    "print(s[1:3])\n",
    "print(s[0:4:2])\n",
    "print(s[:])\n"
   ]
  },
  {
   "cell_type": "code",
   "execution_count": 29,
   "metadata": {},
   "outputs": [
    {
     "name": "stdout",
     "output_type": "stream",
     "text": [
      "()\n",
      "\n",
      "('year', 2022)\n",
      "2\n",
      "year\n",
      "2022\n"
     ]
    }
   ],
   "source": [
    "# Tuple\n",
    "t = tuple() # immutable\n",
    "print(t)\n",
    "\n",
    "print()\n",
    "\n",
    "date = (\"year\", 2022) # immutable\n",
    "print(date)\n",
    "print(len(date))\n",
    "print(date[0])\n",
    "print(date[1])\n"
   ]
  },
  {
   "cell_type": "code",
   "execution_count": 28,
   "metadata": {},
   "outputs": [
    {
     "ename": "TypeError",
     "evalue": "'tuple' object does not support item assignment",
     "output_type": "error",
     "traceback": [
      "\u001b[1;31m---------------------------------------------------------------------------\u001b[0m",
      "\u001b[1;31mTypeError\u001b[0m                                 Traceback (most recent call last)",
      "\u001b[1;32mc:\\Users\\A\\Desktop\\ipynb\\01.beginning.ipynb Cell 16\u001b[0m in \u001b[0;36m<cell line: 2>\u001b[1;34m()\u001b[0m\n\u001b[0;32m      <a href='vscode-notebook-cell:/c%3A/Users/A/Desktop/ipynb/01.beginning.ipynb#X22sZmlsZQ%3D%3D?line=0'>1</a>\u001b[0m date \u001b[39m=\u001b[39m (\u001b[39m\"\u001b[39m\u001b[39myear\u001b[39m\u001b[39m\"\u001b[39m, \u001b[39m2022\u001b[39m)\n\u001b[1;32m----> <a href='vscode-notebook-cell:/c%3A/Users/A/Desktop/ipynb/01.beginning.ipynb#X22sZmlsZQ%3D%3D?line=1'>2</a>\u001b[0m date[\u001b[39m1\u001b[39;49m] \u001b[39m=\u001b[39m \u001b[39m2023\u001b[39m\n",
      "\u001b[1;31mTypeError\u001b[0m: 'tuple' object does not support item assignment"
     ]
    }
   ],
   "source": [
    "date = (\"year\", 2022)\n",
    "date[1] = 2023  # error\n"
   ]
  },
  {
   "cell_type": "code",
   "execution_count": 30,
   "metadata": {},
   "outputs": [
    {
     "ename": "TypeError",
     "evalue": "'tuple' object doesn't support item deletion",
     "output_type": "error",
     "traceback": [
      "\u001b[1;31m---------------------------------------------------------------------------\u001b[0m",
      "\u001b[1;31mTypeError\u001b[0m                                 Traceback (most recent call last)",
      "\u001b[1;32mc:\\Users\\A\\Desktop\\ipynb\\01.beginning.ipynb Cell 17\u001b[0m in \u001b[0;36m<cell line: 2>\u001b[1;34m()\u001b[0m\n\u001b[0;32m      <a href='vscode-notebook-cell:/c%3A/Users/A/Desktop/ipynb/01.beginning.ipynb#X23sZmlsZQ%3D%3D?line=0'>1</a>\u001b[0m date \u001b[39m=\u001b[39m (\u001b[39m\"\u001b[39m\u001b[39myear\u001b[39m\u001b[39m\"\u001b[39m, \u001b[39m2022\u001b[39m)\n\u001b[1;32m----> <a href='vscode-notebook-cell:/c%3A/Users/A/Desktop/ipynb/01.beginning.ipynb#X23sZmlsZQ%3D%3D?line=1'>2</a>\u001b[0m \u001b[39mdel\u001b[39;00m date[\u001b[39m0\u001b[39m]\n",
      "\u001b[1;31mTypeError\u001b[0m: 'tuple' object doesn't support item deletion"
     ]
    }
   ],
   "source": [
    "date = (\"year\", 2022)\n",
    "del date[0]  # error\n"
   ]
  },
  {
   "cell_type": "code",
   "execution_count": 32,
   "metadata": {},
   "outputs": [
    {
     "name": "stdout",
     "output_type": "stream",
     "text": [
      "set()\n",
      "{1, 2, 3, 4, 5}\n",
      "False\n",
      "True\n",
      "\n",
      "{1, 2, 3, 4, 5, 67}\n",
      "{1, 2, 3, 4, 5}\n"
     ]
    }
   ],
   "source": [
    "# Set\n",
    "set1 = set()  # empty set\n",
    "print(set1)\n",
    "\n",
    "xs = {1, 2, 3, 4, 5}\n",
    "print(xs)\n",
    "print(77 in xs)\n",
    "print(77 not in xs)\n",
    "\n",
    "print()\n",
    "\n",
    "xs.add(67)  # {1, 2, 3, 4, 5, 67}\n",
    "print(xs)\n",
    "xs.discard(67)  # {1, 2, 3, 4, 5}\n",
    "print(xs)\n"
   ]
  },
  {
   "cell_type": "code",
   "execution_count": 33,
   "metadata": {},
   "outputs": [
    {
     "name": "stdout",
     "output_type": "stream",
     "text": [
      "False\n",
      "True\n"
     ]
    }
   ],
   "source": [
    "print(7 in [1, 2, 3, 4, 5])\n",
    "print(\"month\" not in (\"year\", 2022))\n"
   ]
  },
  {
   "cell_type": "code",
   "execution_count": 34,
   "metadata": {},
   "outputs": [
    {
     "name": "stdout",
     "output_type": "stream",
     "text": [
      "{1, 2, 3, 4}\n",
      "{4, 5}\n",
      "{4}\n",
      "{4}\n",
      "{1, 2, 3, 4, 5}\n",
      "{1, 2, 3, 4, 5}\n",
      "{1, 2, 3}\n",
      "{1, 2, 3}\n"
     ]
    }
   ],
   "source": [
    "# Set operations\n",
    "xs = {1, 2, 3, 4}\n",
    "print(xs)\n",
    "\n",
    "ys = {4, 5}\n",
    "print(ys)\n",
    "\n",
    "print(xs.intersection(ys))\n",
    "print(xs & ys)\n",
    "\n",
    "print(xs.union(ys))\n",
    "print(xs | ys)\n",
    "\n",
    "print(xs.difference(ys))\n",
    "print(xs - ys)\n"
   ]
  },
  {
   "cell_type": "code",
   "execution_count": 37,
   "metadata": {},
   "outputs": [
    {
     "name": "stdout",
     "output_type": "stream",
     "text": [
      "{}\n",
      "{}\n",
      "{'year': 2022, 'month': 'September'}\n",
      "2\n",
      "2022\n",
      "no day\n",
      "{'year': 2023, 'month': 'September'}\n",
      "\"year\" has been deleted\n",
      "{'month': 'September'}\n"
     ]
    }
   ],
   "source": [
    "# Dictionary\n",
    "dict1 = {}\n",
    "print(dict1)\n",
    "\n",
    "dict2 = dict()\n",
    "print(dict1)\n",
    "\n",
    "date = {\"year\": 2022, \"month\": \"September\"}\n",
    "print(date)\n",
    "print(len(date))\n",
    "\n",
    "print(date[\"year\"])\n",
    "print(date.get(\"day\", \"no day\"))\n",
    "\n",
    "date[\"year\"] = 2023\n",
    "print(date)\n",
    "\n",
    "del date[\"year\"]  # or date.pop(\"year\")\n",
    "print(\"\\\"year\\\" has been deleted\")\n",
    "print(date)\n"
   ]
  },
  {
   "cell_type": "code",
   "execution_count": 44,
   "metadata": {},
   "outputs": [
    {
     "name": "stdout",
     "output_type": "stream",
     "text": [
      "{'year': 2022, 'month': 'September'}\n",
      "dict_keys(['year', 'month'])\n",
      "dict_values([2022, 'September'])\n",
      "dict_items([('year', 2022), ('month', 'September')])\n",
      "\n",
      "True\n",
      "True\n",
      "True\n",
      "True\n",
      "\n",
      "{'month': 'October', 'day': 21}\n",
      "{'day', 'month', 'year'}\n"
     ]
    },
    {
     "ename": "TypeError",
     "evalue": "unsupported operand type(s) for +: 'dict_keys' and 'dict_keys'",
     "output_type": "error",
     "traceback": [
      "\u001b[1;31m---------------------------------------------------------------------------\u001b[0m",
      "\u001b[1;31mTypeError\u001b[0m                                 Traceback (most recent call last)",
      "\u001b[1;32mc:\\Users\\A\\Desktop\\ipynb\\01.beginning.ipynb Cell 22\u001b[0m in \u001b[0;36m<cell line: 20>\u001b[1;34m()\u001b[0m\n\u001b[0;32m     <a href='vscode-notebook-cell:/c%3A/Users/A/Desktop/ipynb/01.beginning.ipynb#X31sZmlsZQ%3D%3D?line=16'>17</a>\u001b[0m \u001b[39mprint\u001b[39m(other_date)\n\u001b[0;32m     <a href='vscode-notebook-cell:/c%3A/Users/A/Desktop/ipynb/01.beginning.ipynb#X31sZmlsZQ%3D%3D?line=18'>19</a>\u001b[0m \u001b[39mprint\u001b[39m(date\u001b[39m.\u001b[39mkeys() \u001b[39m|\u001b[39m other_date\u001b[39m.\u001b[39mkeys())\n\u001b[1;32m---> <a href='vscode-notebook-cell:/c%3A/Users/A/Desktop/ipynb/01.beginning.ipynb#X31sZmlsZQ%3D%3D?line=19'>20</a>\u001b[0m \u001b[39mprint\u001b[39m(date\u001b[39m.\u001b[39;49mkeys() \u001b[39m+\u001b[39;49m other_date\u001b[39m.\u001b[39;49mkeys())\n",
      "\u001b[1;31mTypeError\u001b[0m: unsupported operand type(s) for +: 'dict_keys' and 'dict_keys'"
     ]
    }
   ],
   "source": [
    "# Dictionary - keys and values\n",
    "date = {\"year\": 2022, \"month\": \"September\"}\n",
    "print(date)\n",
    "print(date.keys())\n",
    "print(date.values())\n",
    "print(date.items())\n",
    "\n",
    "print()\n",
    "\n",
    "print(\"year\" in date)\n",
    "print(\"year\" in date.keys())\n",
    "print(2022 in date.values())\n",
    "print((\"year\", 2022) in date.items())\n",
    "\n",
    "print()\n",
    "\n",
    "other_date = {\"month\": \"October\", \"day\": 21}\n",
    "print(other_date)\n",
    "\n",
    "print(date.keys() | other_date.keys())\n",
    "print(date.keys() + other_date.keys()) # error"
   ]
  },
  {
   "cell_type": "code",
   "execution_count": 1,
   "metadata": {},
   "outputs": [],
   "source": [
    "# Basic types:\n",
    "# - None;\n",
    "# - logical: True, False;\n",
    "# - integers, numbers: int, float, complex;\n",
    "# - string: bytes, str;\n",
    "# - changeable collections: list, set, dict;\n",
    "# - immutable collections: tuple.\n",
    "\n",
    "# Usually we can apply common operations in types of one group."
   ]
  },
  {
   "cell_type": "code",
   "execution_count": 5,
   "metadata": {},
   "outputs": [
    {
     "name": "stdout",
     "output_type": "stream",
     "text": [
      "buzz\n",
      "\n",
      "odd\n"
     ]
    }
   ],
   "source": [
    "# if, elif, else, pass, ternary operator\n",
    "x = 27\n",
    "if x % 5 == 0:\n",
    "    print(\"fizz\")\n",
    "elif x % 3 == 0:\n",
    "    print(\"buzz\")\n",
    "else:\n",
    "    pass\n",
    "\n",
    "print()\n",
    "\n",
    "print(\"even\" if x & 1 == 0 else \"odd\")\n"
   ]
  },
  {
   "cell_type": "code",
   "execution_count": 8,
   "metadata": {},
   "outputs": [
    {
     "name": "stdout",
     "output_type": "stream",
     "text": [
      "10\n",
      "30\n",
      "Loop ended naturally and without any breaks.\n"
     ]
    }
   ],
   "source": [
    "# while and for\n",
    "i = 0\n",
    "while i < 10:\n",
    "    i += 1\n",
    "print(i)\n",
    "\n",
    "sum = 0\n",
    "for i in range(1, 5):\n",
    "    sum += i*i\n",
    "print(sum)\n",
    "\n",
    "# There are operators 'break' and 'continue' in Python.\n",
    "while False:\n",
    "    pass\n",
    "else:\n",
    "    print(\"Loop ended naturally and without any breaks.\")\n"
   ]
  },
  {
   "cell_type": "code",
   "execution_count": 9,
   "metadata": {},
   "outputs": [
    {
     "name": "stdout",
     "output_type": "stream",
     "text": [
      "[7, 6, 5, 4, 3, 2, 1]\n"
     ]
    }
   ],
   "source": [
    "# range and reversed\n",
    "#\n",
    "# range\n",
    "# range(start, stop, step) - step is optional and it can be negative\n",
    "#\n",
    "# reversed\n",
    "# reversed - reverses the elements\n",
    "print(list(reversed([1, 2, 3, 4, 5, 6, 7])))\n"
   ]
  },
  {
   "cell_type": "code",
   "execution_count": 15,
   "metadata": {},
   "outputs": [],
   "source": [
    "# for can be used in iterations with collections, files, and many more\n",
    "for x in [0, 1, 2, 3, 4, 5]:\n",
    "    pass\n",
    "for x in reversed([0, 1, 2, 3, 4, 5]):\n",
    "    pass\n",
    "for line in open(\"python.txt\"):\n",
    "    pass\n",
    "for ch in \"abcdefghijklmnopqrstuvwxyz\":\n",
    "    pass\n"
   ]
  },
  {
   "cell_type": "code",
   "execution_count": 16,
   "metadata": {},
   "outputs": [
    {
     "ename": "SyntaxError",
     "evalue": "not a chance (3905450354.py, line 1)",
     "output_type": "error",
     "traceback": [
      "\u001b[1;36m  Input \u001b[1;32mIn [16]\u001b[1;36m\u001b[0m\n\u001b[1;33m    from __future__ import braces\u001b[0m\n\u001b[1;37m    ^\u001b[0m\n\u001b[1;31mSyntaxError\u001b[0m\u001b[1;31m:\u001b[0m not a chance\n"
     ]
    }
   ],
   "source": [
    "# There are no braces in Python.\n",
    "from __future__ import braces"
   ]
  },
  {
   "cell_type": "code",
   "execution_count": 17,
   "metadata": {},
   "outputs": [
    {
     "name": "stdout",
     "output_type": "stream",
     "text": [
      "The Zen of Python, by Tim Peters\n",
      "\n",
      "Beautiful is better than ugly.\n",
      "Explicit is better than implicit.\n",
      "Simple is better than complex.\n",
      "Complex is better than complicated.\n",
      "Flat is better than nested.\n",
      "Sparse is better than dense.\n",
      "Readability counts.\n",
      "Special cases aren't special enough to break the rules.\n",
      "Although practicality beats purity.\n",
      "Errors should never pass silently.\n",
      "Unless explicitly silenced.\n",
      "In the face of ambiguity, refuse the temptation to guess.\n",
      "There should be one-- and preferably only one --obvious way to do it.\n",
      "Although that way may not be obvious at first unless you're Dutch.\n",
      "Now is better than never.\n",
      "Although never is often better than *right* now.\n",
      "If the implementation is hard to explain, it's a bad idea.\n",
      "If the implementation is easy to explain, it may be a good idea.\n",
      "Namespaces are one honking great idea -- let's do more of those!\n"
     ]
    }
   ],
   "source": [
    "# Zen\n",
    "import this\n"
   ]
  }
 ],
 "metadata": {
  "kernelspec": {
   "display_name": "Python 3.10.6 64-bit",
   "language": "python",
   "name": "python3"
  },
  "language_info": {
   "codemirror_mode": {
    "name": "ipython",
    "version": 3
   },
   "file_extension": ".py",
   "mimetype": "text/x-python",
   "name": "python",
   "nbconvert_exporter": "python",
   "pygments_lexer": "ipython3",
   "version": "3.10.6"
  },
  "orig_nbformat": 4,
  "vscode": {
   "interpreter": {
    "hash": "f913ba3e57e76821e421a89bd7bb9694390d9cda7e9a881ba7e93febeab53170"
   }
  }
 },
 "nbformat": 4,
 "nbformat_minor": 2
}

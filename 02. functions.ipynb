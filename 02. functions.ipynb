{
 "cells": [
  {
   "cell_type": "code",
   "execution_count": 306,
   "metadata": {},
   "outputs": [
    {
     "name": "stdout",
     "output_type": "stream",
     "text": [
      "33\n"
     ]
    }
   ],
   "source": [
    "# Python function declaration syntax\n",
    "def foo():\n",
    "    return 33\n",
    "\n",
    "\n",
    "print(foo())\n"
   ]
  },
  {
   "cell_type": "code",
   "execution_count": 307,
   "metadata": {},
   "outputs": [
    {
     "name": "stdout",
     "output_type": "stream",
     "text": [
      "None\n"
     ]
    }
   ],
   "source": [
    "# return is not obligatory\n",
    "# by default, function returns None\n",
    "def foo():\n",
    "    33\n",
    "\n",
    "\n",
    "print(foo())\n"
   ]
  },
  {
   "cell_type": "code",
   "execution_count": 308,
   "metadata": {},
   "outputs": [
    {
     "name": "stdout",
     "output_type": "stream",
     "text": [
      "Function just returns 33.\n",
      "Help on function foo in module __main__:\n",
      "\n",
      "foo()\n",
      "    Function just returns 33.\n",
      "\n"
     ]
    }
   ],
   "source": [
    "# Documentation string\n",
    "def foo():\n",
    "    \"\"\"Function just returns 33.\"\"\"\n",
    "    return 33\n",
    "\n",
    "\n",
    "print(foo.__doc__)\n",
    "help(foo)\n"
   ]
  },
  {
   "cell_type": "code",
   "execution_count": 309,
   "metadata": {},
   "outputs": [
    {
     "name": "stdout",
     "output_type": "stream",
     "text": [
      "-5\n",
      "3\n"
     ]
    }
   ],
   "source": [
    "# min\n",
    "def min(x, y):\n",
    "    return x if x < y else y\n",
    "\n",
    "\n",
    "print(min(-5, 7))\n",
    "print(min(y=3, x=20))\n"
   ]
  },
  {
   "cell_type": "code",
   "execution_count": 310,
   "metadata": {},
   "outputs": [
    {
     "name": "stdout",
     "output_type": "stream",
     "text": [
      "<class 'tuple'>\n",
      "True\n",
      "-5\n",
      "<class 'tuple'>\n",
      "True\n",
      "inf\n"
     ]
    }
   ],
   "source": [
    "# packing the arguments\n",
    "# now min function can accept arbitrary number of arguments\n",
    "def min(*args):\n",
    "    print(type(args))  # <class 'tuple'>\n",
    "    print(type(args) == tuple)  # True\n",
    "\n",
    "    res = float(\"inf\")  # infinity, the max number\n",
    "    for arg in args:\n",
    "        if arg < res:\n",
    "            res = arg\n",
    "    return res\n",
    "\n",
    "\n",
    "print(min(-5, 12, 13))\n",
    "print(min())  # no error\n"
   ]
  },
  {
   "cell_type": "code",
   "execution_count": 311,
   "metadata": {},
   "outputs": [
    {
     "name": "stdout",
     "output_type": "stream",
     "text": [
      "-5\n"
     ]
    },
    {
     "ename": "TypeError",
     "evalue": "min() missing 1 required positional argument: 'first'",
     "output_type": "error",
     "traceback": [
      "\u001b[1;31m---------------------------------------------------------------------------\u001b[0m",
      "\u001b[1;31mTypeError\u001b[0m                                 Traceback (most recent call last)",
      "\u001b[1;32mc:\\Users\\A\\Desktop\\Python CSC course - ipynb\\02. functions.ipynb Cell 6\u001b[0m in \u001b[0;36m<cell line: 11>\u001b[1;34m()\u001b[0m\n\u001b[0;32m      <a href='vscode-notebook-cell:/c%3A/Users/A/Desktop/Python%20CSC%20course%20-%20ipynb/02.%20functions.ipynb#W6sZmlsZQ%3D%3D?line=6'>7</a>\u001b[0m     \u001b[39mreturn\u001b[39;00m res\n\u001b[0;32m     <a href='vscode-notebook-cell:/c%3A/Users/A/Desktop/Python%20CSC%20course%20-%20ipynb/02.%20functions.ipynb#W6sZmlsZQ%3D%3D?line=9'>10</a>\u001b[0m \u001b[39mprint\u001b[39m(\u001b[39mmin\u001b[39m(\u001b[39m-\u001b[39m\u001b[39m5\u001b[39m, \u001b[39m12\u001b[39m, \u001b[39m13\u001b[39m))\n\u001b[1;32m---> <a href='vscode-notebook-cell:/c%3A/Users/A/Desktop/Python%20CSC%20course%20-%20ipynb/02.%20functions.ipynb#W6sZmlsZQ%3D%3D?line=10'>11</a>\u001b[0m \u001b[39mprint\u001b[39m(\u001b[39mmin\u001b[39;49m())\n",
      "\u001b[1;31mTypeError\u001b[0m: min() missing 1 required positional argument: 'first'"
     ]
    }
   ],
   "source": [
    "# now it is impossible to call the min function without arguments\n",
    "def min(first, *args):\n",
    "    res = first\n",
    "    for arg in (first, ) + args:\n",
    "        if arg < res:\n",
    "            res = arg\n",
    "    return res\n",
    "\n",
    "\n",
    "print(min(-5, 12, 13))\n",
    "print(min())  # error\n"
   ]
  },
  {
   "cell_type": "code",
   "execution_count": null,
   "metadata": {},
   "outputs": [
    {
     "name": "stdout",
     "output_type": "stream",
     "text": [
      "-5\n",
      "-5\n",
      "-5\n"
     ]
    }
   ],
   "source": [
    "# unpacking the arguments\n",
    "# now min function can accept collections: tuples, lists, sets and so on...\n",
    "def min(first, *args):\n",
    "    res = first\n",
    "    for arg in (first, ) + args:\n",
    "        if arg < res:\n",
    "            res = arg\n",
    "    return res\n",
    "\n",
    "\n",
    "xs = {-5, 12, 13}  # set\n",
    "print(min(*xs))  # unpacking using * while calling the function\n",
    "print(min(*[-5, 12, 13]))  # list\n",
    "print(min(*(-5, 12, 13)))  # tuple\n"
   ]
  },
  {
   "cell_type": "code",
   "execution_count": null,
   "metadata": {},
   "outputs": [
    {
     "name": "stdout",
     "output_type": "stream",
     "text": [
      "12\n"
     ]
    }
   ],
   "source": [
    "# bounded_min function\n",
    "def bounded_min(first, *args, lo=float(\"-inf\"), hi=float(\"inf\")):\n",
    "    res = hi\n",
    "    for arg in (first, ) + args:\n",
    "        if arg < res and lo < arg < hi:\n",
    "            res = arg\n",
    "    return max(res, lo)\n",
    "\n",
    "\n",
    "print(bounded_min(-5, 12, 13, lo=0, hi=255))\n"
   ]
  },
  {
   "cell_type": "code",
   "execution_count": null,
   "metadata": {},
   "outputs": [
    {
     "name": "stdout",
     "output_type": "stream",
     "text": [
      "[1, 2, 3]\n",
      "[]\n",
      "({1, 2, 3},)\n"
     ]
    }
   ],
   "source": [
    "# Key arguments: nuances and drawbacks\n",
    "def unique(iterable, seen=set()):\n",
    "    acc = []\n",
    "    for item in iterable:\n",
    "        if item not in seen:\n",
    "            seen.add(item)\n",
    "            acc.append(item)\n",
    "    return acc\n",
    "\n",
    "\n",
    "xs = [1, 1, 2, 3]\n",
    "print(unique(xs))  # 1st call - list with unique elements\n",
    "\n",
    "print(unique(xs))  # 2nd call - empty list\n",
    "\n",
    "print(unique.__defaults__)\n"
   ]
  },
  {
   "cell_type": "code",
   "execution_count": null,
   "metadata": {},
   "outputs": [
    {
     "name": "stdout",
     "output_type": "stream",
     "text": [
      "[1, 2, 3]\n",
      "[1, 2, 3]\n"
     ]
    }
   ],
   "source": [
    "# Key arguments: correct initialization\n",
    "# Falsy values: 0, 0.0, 0j, [], (), {}, set(), None.\n",
    "def unique(iterable, seen=None):\n",
    "    seen = set(seen or [])  # None --- falsy.\n",
    "    acc = []\n",
    "    for item in iterable:\n",
    "        if item not in seen:\n",
    "            seen.add(item)\n",
    "            acc.append(item)\n",
    "    return acc\n",
    "\n",
    "\n",
    "xs = [1, 1, 2, 3]\n",
    "print(unique(xs))\n",
    "\n",
    "print(unique(xs))\n"
   ]
  },
  {
   "cell_type": "code",
   "execution_count": null,
   "metadata": {},
   "outputs": [
    {
     "ename": "TypeError",
     "evalue": "flatten2() takes 1 positional argument but 2 were given",
     "output_type": "error",
     "traceback": [
      "\u001b[1;31m---------------------------------------------------------------------------\u001b[0m",
      "\u001b[1;31mTypeError\u001b[0m                                 Traceback (most recent call last)",
      "\u001b[1;32mc:\\Users\\A\\Desktop\\Python CSC course - ipynb\\02. functions.ipynb Cell 11\u001b[0m in \u001b[0;36m<cell line: 18>\u001b[1;34m()\u001b[0m\n\u001b[0;32m     <a href='vscode-notebook-cell:/c%3A/Users/A/Desktop/Python%20CSC%20course%20-%20ipynb/02.%20functions.ipynb#X15sZmlsZQ%3D%3D?line=13'>14</a>\u001b[0m \u001b[39mdef\u001b[39;00m \u001b[39mflatten2\u001b[39m(xs, \u001b[39m*\u001b[39m, depth\u001b[39m=\u001b[39m\u001b[39mNone\u001b[39;00m):\n\u001b[0;32m     <a href='vscode-notebook-cell:/c%3A/Users/A/Desktop/Python%20CSC%20course%20-%20ipynb/02.%20functions.ipynb#X15sZmlsZQ%3D%3D?line=14'>15</a>\u001b[0m     \u001b[39mpass\u001b[39;00m\n\u001b[1;32m---> <a href='vscode-notebook-cell:/c%3A/Users/A/Desktop/Python%20CSC%20course%20-%20ipynb/02.%20functions.ipynb#X15sZmlsZQ%3D%3D?line=17'>18</a>\u001b[0m flatten2([\u001b[39m1\u001b[39;49m, [\u001b[39m2\u001b[39;49m], \u001b[39m3\u001b[39;49m], \u001b[39m2\u001b[39;49m)\n",
      "\u001b[1;31mTypeError\u001b[0m: flatten2() takes 1 positional argument but 2 were given"
     ]
    }
   ],
   "source": [
    "# Key arguments: and only key arguments\n",
    "def flatten1(xs, depth=None):\n",
    "    pass\n",
    "\n",
    "\n",
    "# We can pass key arguments to the function without explicit name indication:\n",
    "flatten1([1, [2], 3], depth=1)\n",
    "flatten1([1, [2], 3], 1)\n",
    "\n",
    "# We can explicitly demand that a part of arguments always passed as key arguments:\n",
    "# Arguments after * are key arguments, arguments before * are positional.\n",
    "\n",
    "\n",
    "def flatten2(xs, *, depth=None):\n",
    "    pass\n",
    "\n",
    "\n",
    "flatten2([1, [2], 3], 2)  # error\n"
   ]
  },
  {
   "cell_type": "code",
   "execution_count": null,
   "metadata": {},
   "outputs": [
    {
     "name": "stdout",
     "output_type": "stream",
     "text": [
      "<class 'dict'>\n",
      "True\n",
      "Logging enabled\n",
      "None\n",
      "<class 'dict'>\n",
      "True\n",
      "None\n",
      "<class 'dict'>\n",
      "True\n"
     ]
    }
   ],
   "source": [
    "# Key arguments: packing and unpacking\n",
    "# Key arguments, in much the same way as positional ones, can be packed and unpacked\n",
    "def runner(cmd, **kwargs):  # **kwargs - keyword arguments\n",
    "    print(type(kwargs))  # <class 'dict'>\n",
    "    print(type(kwargs) == dict)  # True\n",
    "    if kwargs.get(\"verbose\", True):\n",
    "        print(\"Logging enabled\")\n",
    "\n",
    "\n",
    "print(runner(\"mysqld\", limit=55))\n",
    "print(runner(\"mysqld\", **{\"verbose\": False}))\n",
    "options = {\"verbose\": False}\n",
    "runner(\"mysqld\", **options)\n"
   ]
  },
  {
   "cell_type": "code",
   "execution_count": null,
   "metadata": {},
   "outputs": [
    {
     "name": "stdout",
     "output_type": "stream",
     "text": [
      "acc1=[] and seen1=set()\n",
      "acc2=[] and seen2=set()\n",
      "1 2 3\n",
      "1 2 3\n",
      "x y z\n",
      "((0, 0), (4, 4))\n",
      "(0, 0) (4, 4)\n"
     ]
    }
   ],
   "source": [
    "# Unpacking and assignment\n",
    "# 1st option\n",
    "acc1 = []\n",
    "seen2 = set()\n",
    "print(f\"acc1={acc1} and seen1={set()}\")\n",
    "\n",
    "# 2nd option\n",
    "(acc2, seen2) = ([], set())\n",
    "print(f\"acc2={acc2} and seen2={set()}\")\n",
    "\n",
    "# We can use any object which supports iterator protocol for right-hand side argument.\n",
    "x, y, z = [1, 2, 3]\n",
    "print(x, y, z)\n",
    "x, y, z = {1, 2, 3}  # unordered!\n",
    "print(x, y, z)\n",
    "x, y, z = \"xyz\"\n",
    "print(x, y, z)\n",
    "\n",
    "# Parentheses () are usually dropped, but sometimes they are useful and handy.\n",
    "rectangle = (0, 0), (4, 4)\n",
    "print(rectangle)\n",
    "(x1, y1), (x2, y2) = rectangle\n",
    "print((x1, y1), (x2, y2))\n"
   ]
  },
  {
   "cell_type": "code",
   "execution_count": null,
   "metadata": {},
   "outputs": [
    {
     "name": "stdout",
     "output_type": "stream",
     "text": [
      "[range(1, 5), range(1, 5), range(1, 5), range(1, 5), range(1, 5)]\n",
      "1 [2, 3, 4]\n",
      "1 [2, 3] 4\n",
      "[range(1, 5), range(1, 5), range(1, 5), range(1, 5)] 1 [2, 3, 4]\n"
     ]
    },
    {
     "ename": "ValueError",
     "evalue": "not enough values to unpack (expected at least 2, got 1)",
     "output_type": "error",
     "traceback": [
      "\u001b[1;31m---------------------------------------------------------------------------\u001b[0m",
      "\u001b[1;31mValueError\u001b[0m                                Traceback (most recent call last)",
      "\u001b[1;32mc:\\Users\\A\\Desktop\\Python CSC course - ipynb\\02. functions.ipynb Cell 14\u001b[0m in \u001b[0;36m<cell line: 15>\u001b[1;34m()\u001b[0m\n\u001b[0;32m     <a href='vscode-notebook-cell:/c%3A/Users/A/Desktop/Python%20CSC%20course%20-%20ipynb/02.%20functions.ipynb#X21sZmlsZQ%3D%3D?line=11'>12</a>\u001b[0m \u001b[39mprint\u001b[39m(_, first, rest)\n\u001b[0;32m     <a href='vscode-notebook-cell:/c%3A/Users/A/Desktop/Python%20CSC%20course%20-%20ipynb/02.%20functions.ipynb#X21sZmlsZQ%3D%3D?line=13'>14</a>\u001b[0m \u001b[39m# error, the number of values in right-hand side should not be less than left-hand side\u001b[39;00m\n\u001b[1;32m---> <a href='vscode-notebook-cell:/c%3A/Users/A/Desktop/Python%20CSC%20course%20-%20ipynb/02.%20functions.ipynb#X21sZmlsZQ%3D%3D?line=14'>15</a>\u001b[0m first, \u001b[39m*\u001b[39mrest, last \u001b[39m=\u001b[39m [\u001b[39m25\u001b[39m]\n",
      "\u001b[1;31mValueError\u001b[0m: not enough values to unpack (expected at least 2, got 1)"
     ]
    }
   ],
   "source": [
    "# extended syntax of unpacking\n",
    "print([range(1, 5)] * 5)\n",
    "\n",
    "# there can be only one * in left-hand side\n",
    "first, *rest = range(1, 5)  # rest is a list\n",
    "print(first, rest)\n",
    "\n",
    "first, *rest, last = range(1, 5)\n",
    "print(first, rest, last)\n",
    "\n",
    "*_, (first, *rest) = [range(1, 5)] * 5  # assigning recursively\n",
    "print(_, first, rest)\n",
    "\n",
    "# error, the number of values in right-hand side should not be less than left-hand side\n",
    "first, *rest, last = [25]\n"
   ]
  },
  {
   "cell_type": "code",
   "execution_count": null,
   "metadata": {},
   "outputs": [
    {
     "name": "stdout",
     "output_type": "stream",
     "text": [
      "a is 0\n",
      "b is [1, 2, 3]\n",
      "a is 0\n",
      "b is [1]\n",
      "a is 1\n",
      "b is [2, 3, 4, 5, 6, 7]\n"
     ]
    }
   ],
   "source": [
    "# unpacking syntax works in for loop\n",
    "for a, *b in [range(4), range(2), range(1, 8)]:\n",
    "    print(\"a is\", a)  # a is assigned to the first variable of two ranges\n",
    "    # b is a list which comprises of the rest elements of the ranges\n",
    "    print(\"b is\", b)\n"
   ]
  },
  {
   "cell_type": "code",
   "execution_count": null,
   "metadata": {},
   "outputs": [
    {
     "name": "stdout",
     "output_type": "stream",
     "text": [
      "  1           0 LOAD_CONST               0 (('a', 'b', 'c'))\n",
      "              2 EXTENDED_ARG             1\n",
      "              4 UNPACK_EX              257\n",
      "              6 STORE_NAME               0 (first)\n",
      "              8 STORE_NAME               1 (rest)\n",
      "             10 STORE_NAME               2 (last)\n",
      "             12 LOAD_CONST               1 (None)\n",
      "             14 RETURN_VALUE\n",
      "a ['b'] c\n",
      "2\n"
     ]
    }
   ],
   "source": [
    "# unpacking and bytecode\n",
    "import dis\n",
    "dis.dis(\"first, *rest, last = ('a', 'b', 'c')\")  # tuple\n",
    "\n",
    "first, *rest, last = ('a', 'b', 'c')\n",
    "print(first, rest, last)\n",
    "\n",
    "# Assignment works from left to right in Python.\n",
    "x, (x, y) = 1, (2, 3)\n",
    "print(x)\n"
   ]
  },
  {
   "cell_type": "code",
   "execution_count": null,
   "metadata": {},
   "outputs": [
    {
     "name": "stdout",
     "output_type": "stream",
     "text": [
      "  1           0 BUILD_LIST               0\n",
      "              2 LOAD_CONST               0 (('a', 'b', 'c'))\n",
      "              4 LIST_EXTEND              1\n",
      "              6 EXTENDED_ARG             1\n",
      "              8 UNPACK_EX              257\n",
      "             10 STORE_NAME               0 (first)\n",
      "             12 STORE_NAME               1 (rest)\n",
      "             14 STORE_NAME               2 (last)\n",
      "             16 LOAD_CONST               1 (None)\n",
      "             18 RETURN_VALUE\n",
      "a ['b'] c\n"
     ]
    }
   ],
   "source": [
    "# Constructions which are similar in syntax can have different semantics of performance time\n",
    "import dis\n",
    "dis.dis(\"first, *rest, last = ['a', 'b', 'c']\")  # list\n",
    "\n",
    "first, *rest, last = ['a', 'b', 'c']\n",
    "print(first, rest, last)\n"
   ]
  },
  {
   "cell_type": "code",
   "execution_count": null,
   "metadata": {},
   "outputs": [
    {
     "data": {
      "text/plain": [
       "33"
      ]
     },
     "execution_count": 98,
     "metadata": {},
     "output_type": "execute_result"
    }
   ],
   "source": [
    "# Functions inside functions\n",
    "def wrapper():\n",
    "    def identity(x):\n",
    "        return x\n",
    "    return identity\n",
    "\n",
    "\n",
    "f = wrapper()\n",
    "f(33)\n"
   ]
  },
  {
   "cell_type": "code",
   "execution_count": null,
   "metadata": {},
   "outputs": [
    {
     "name": "stdout",
     "output_type": "stream",
     "text": [
      "12\n"
     ]
    }
   ],
   "source": [
    "# Final make_min function\n",
    "def make_min(*, lo, hi):\n",
    "    def inner(first, *args):\n",
    "        res = hi\n",
    "        for arg in (first, ) + args:\n",
    "            if arg < res and lo < arg < hi:\n",
    "                res = arg\n",
    "        return max(res, lo)\n",
    "    return inner\n",
    "\n",
    "\n",
    "bounded_min = make_min(lo=0, hi=255)\n",
    "print(bounded_min(-5, 12, 13))\n"
   ]
  },
  {
   "cell_type": "code",
   "execution_count": null,
   "metadata": {},
   "outputs": [],
   "source": [
    "# LEGB rule\n",
    "min  # builtin\n",
    "min = 25  # global\n",
    "\n",
    "\n",
    "def f(*args):\n",
    "    min = 2\n",
    "\n",
    "    def g():  # enclosing (functions)\n",
    "        min = 4  # local\n",
    "        print(min)\n"
   ]
  },
  {
   "cell_type": "code",
   "execution_count": null,
   "metadata": {},
   "outputs": [
    {
     "name": "stdout",
     "output_type": "stream",
     "text": [
      "33\n",
      "{'min': 22, 'max': 55}\n"
     ]
    }
   ],
   "source": [
    "# globals and locals\n",
    "min = 33  # globals()[\"min\"] = 33\n",
    "globals()\n",
    "\n",
    "print(globals()[\"min\"])\n",
    "\n",
    "\n",
    "def f():\n",
    "    min = 22  # locals()[\"min\"] = 22\n",
    "    max = 55\n",
    "    print(locals())\n",
    "\n",
    "\n",
    "f()\n"
   ]
  },
  {
   "cell_type": "code",
   "execution_count": null,
   "metadata": {},
   "outputs": [
    {
     "name": "stdout",
     "output_type": "stream",
     "text": [
      "0\n",
      "1\n",
      "2\n",
      "3\n"
     ]
    }
   ],
   "source": [
    "# 1) Functions in Python can use variables defined in external scopes\n",
    "# 2) It is important to remember that search for variables is implemented\n",
    "# during function execution, not during declaration.\n",
    "\n",
    "def f():\n",
    "    print(i)\n",
    "\n",
    "\n",
    "# f() # error - name 'i' is not defined\n",
    "for i in range(4):\n",
    "    f()\n"
   ]
  },
  {
   "cell_type": "code",
   "execution_count": null,
   "metadata": {},
   "outputs": [
    {
     "ename": "UnboundLocalError",
     "evalue": "local variable 'min' referenced before assignment",
     "output_type": "error",
     "traceback": [
      "\u001b[1;31m---------------------------------------------------------------------------\u001b[0m",
      "\u001b[1;31mUnboundLocalError\u001b[0m                         Traceback (most recent call last)",
      "\u001b[1;32mc:\\Users\\A\\Desktop\\Python CSC course - ipynb\\02. functions.ipynb Cell 23\u001b[0m in \u001b[0;36m<cell line: 10>\u001b[1;34m()\u001b[0m\n\u001b[0;32m      <a href='vscode-notebook-cell:/c%3A/Users/A/Desktop/Python%20CSC%20course%20-%20ipynb/02.%20functions.ipynb#X34sZmlsZQ%3D%3D?line=5'>6</a>\u001b[0m     \u001b[39mmin\u001b[39m \u001b[39m+\u001b[39m\u001b[39m=\u001b[39m \u001b[39m1\u001b[39m\n\u001b[0;32m      <a href='vscode-notebook-cell:/c%3A/Users/A/Desktop/Python%20CSC%20course%20-%20ipynb/02.%20functions.ipynb#X34sZmlsZQ%3D%3D?line=6'>7</a>\u001b[0m     \u001b[39mreturn\u001b[39;00m \u001b[39mmin\u001b[39m\n\u001b[1;32m---> <a href='vscode-notebook-cell:/c%3A/Users/A/Desktop/Python%20CSC%20course%20-%20ipynb/02.%20functions.ipynb#X34sZmlsZQ%3D%3D?line=9'>10</a>\u001b[0m f()\n",
      "\u001b[1;32mc:\\Users\\A\\Desktop\\Python CSC course - ipynb\\02. functions.ipynb Cell 23\u001b[0m in \u001b[0;36mf\u001b[1;34m()\u001b[0m\n\u001b[0;32m      <a href='vscode-notebook-cell:/c%3A/Users/A/Desktop/Python%20CSC%20course%20-%20ipynb/02.%20functions.ipynb#X34sZmlsZQ%3D%3D?line=4'>5</a>\u001b[0m \u001b[39mdef\u001b[39;00m \u001b[39mf\u001b[39m():\n\u001b[1;32m----> <a href='vscode-notebook-cell:/c%3A/Users/A/Desktop/Python%20CSC%20course%20-%20ipynb/02.%20functions.ipynb#X34sZmlsZQ%3D%3D?line=5'>6</a>\u001b[0m     \u001b[39mmin\u001b[39m \u001b[39m+\u001b[39m\u001b[39m=\u001b[39m \u001b[39m1\u001b[39m\n\u001b[0;32m      <a href='vscode-notebook-cell:/c%3A/Users/A/Desktop/Python%20CSC%20course%20-%20ipynb/02.%20functions.ipynb#X34sZmlsZQ%3D%3D?line=6'>7</a>\u001b[0m     \u001b[39mreturn\u001b[39;00m \u001b[39mmin\u001b[39m\n",
      "\u001b[1;31mUnboundLocalError\u001b[0m: local variable 'min' referenced before assignment"
     ]
    }
   ],
   "source": [
    "# For assignment LEGB rule doesn't work\n",
    "min = 25\n",
    "\n",
    "\n",
    "def f():\n",
    "    min += 1\n",
    "    return min\n",
    "\n",
    "\n",
    "f()  # error\n",
    "\n",
    "# By default, the assignment operation creates a local variable.\n",
    "# This behaviour can be changed with the help of operators 'global' and 'nonlocal'\n"
   ]
  },
  {
   "cell_type": "code",
   "execution_count": null,
   "metadata": {},
   "outputs": [
    {
     "name": "stdout",
     "output_type": "stream",
     "text": [
      "26\n",
      "27\n",
      "28\n",
      "29\n",
      "30\n"
     ]
    }
   ],
   "source": [
    "# 'global' operator - allows to change the value of the variable of the global scope\n",
    "min = 25\n",
    "\n",
    "\n",
    "def f():\n",
    "    global min\n",
    "    min += 1\n",
    "    return min\n",
    "\n",
    "\n",
    "print(f())\n",
    "print(f())\n",
    "print(f())\n",
    "print(f())\n",
    "print(f())\n"
   ]
  },
  {
   "cell_type": "code",
   "execution_count": null,
   "metadata": {},
   "outputs": [
    {
     "name": "stdout",
     "output_type": "stream",
     "text": [
      "25\n"
     ]
    }
   ],
   "source": [
    "# 'nonlocal' operator - allows to change the value of the variable of the enclosing scope\n",
    "def cell(value=None):\n",
    "    def get():\n",
    "        return value\n",
    "\n",
    "    def set(update):\n",
    "        nonlocal value\n",
    "        value = update\n",
    "    return get, set\n",
    "\n",
    "\n",
    "get, set = cell()\n",
    "set(25)\n",
    "print(get())\n"
   ]
  },
  {
   "cell_type": "code",
   "execution_count": null,
   "metadata": {},
   "outputs": [],
   "source": [
    "# There are four scopes in Python: builtin, global, enclosing, and local.\n",
    "# LEGB rule: name search is implemented from local to builtin\n",
    "# While using assignment operation the name is considered as local.\n",
    "# This behaviour can be changed with the help of 'global' and 'nonlocal' operators.\n"
   ]
  },
  {
   "cell_type": "code",
   "execution_count": null,
   "metadata": {},
   "outputs": [],
   "source": [
    "# Functional programming\n",
    "# Python is not a functional language, but there are elements of functional programming.\n"
   ]
  },
  {
   "cell_type": "code",
   "execution_count": null,
   "metadata": {},
   "outputs": [
    {
     "data": {
      "text/plain": [
       "<function __main__.<lambda>(foo, *args, bar=None, **kwargs)>"
      ]
     },
     "execution_count": 172,
     "metadata": {},
     "output_type": "execute_result"
    }
   ],
   "source": [
    "# Functional programming: Anonymous functions (lambda functions):\n",
    "# syntax :\n",
    "######################################\n",
    "#### lambda arguments: expression ####\n",
    "######################################\n",
    "# and they are equivalent to following behaviour:\n",
    "##################################\n",
    "#### def <lambda>(arguments): ####\n",
    "####    return expression     ####\n",
    "##################################\n",
    "# Everything that was said about arguments of named functions, is applicable for anonymous functions as well.\n",
    "lambda foo, *args, bar= None, **kwargs: 42\n"
   ]
  },
  {
   "cell_type": "code",
   "execution_count": null,
   "metadata": {},
   "outputs": [
    {
     "name": "stdout",
     "output_type": "stream",
     "text": [
      "<map object at 0x0000023D173C5FF0>\n",
      "[None, None, None, None]\n",
      "(None, None, None, None)\n",
      "None\n",
      "\n",
      "<map object at 0x0000023D173C4F10>\n",
      "None\n",
      "(1, 2, 2, 6, 2, 5)\n",
      "[1, 2, 2, 6, 2, 5]\n",
      "\n",
      "<map object at 0x0000023D173C5F00>\n",
      "['Python CSC course (Jupyter Notebook)']\n",
      "('Python CSC course (Jupyter Notebook)',)\n",
      "None\n",
      "\n",
      "[1, 8, 81, 1024, 15625]\n",
      "(1, 8, 81, 1024, 15625)\n",
      "None\n",
      "<map object at 0x0000023D173C5ED0>\n"
     ]
    }
   ],
   "source": [
    "# Functional programming: map\n",
    "# Applies the function to each element of the sequence or\n",
    "# sequences, number of elements in the result is defined\n",
    "# with the length of the least sequence.\n",
    "def identity(*args):\n",
    "    pass\n",
    "\n",
    "\n",
    "print(map(identity, range(4)))\n",
    "print(list(map(identity, range(4))))\n",
    "print(tuple(map(identity, range(4))))\n",
    "print(set(map(identity, range(4))))\n",
    "\n",
    "print()\n",
    "\n",
    "print(map(lambda x: x % 7, [1, 9, 16, -1, 2, 5]))\n",
    "print(set(map(lambda x: x % 7, [1, 9, 16, -1, 2, 5])))\n",
    "print(tuple(map(lambda x: x % 7, [1, 9, 16, -1, 2, 5])))\n",
    "print(list(map(lambda x: x % 7, [1, 9, 16, -1, 2, 5])))\n",
    "\n",
    "print()\n",
    "\n",
    "print(map(lambda s: s.strip(), open(\"python.txt\")))\n",
    "print(list(map(lambda s: s.strip(), open(\"python.txt\"))))\n",
    "print(tuple(map(lambda s: s.strip(), open(\"python.txt\"))))\n",
    "print(set(map(lambda s: s.strip(), open(\"python.txt\"))))\n",
    "\n",
    "print()\n",
    "\n",
    "print(list(map(lambda x, n: x ** n, [1, 2, 3, 4, 5], range(2, 8))))\n",
    "print(tuple(map(lambda x, n: x ** n, [1, 2, 3, 4, 5], range(2, 8))))\n",
    "print(set(map(lambda x, n: x ** n, [1, 2, 3, 4, 5], range(2, 8))))\n",
    "print(map(lambda x, n: x ** n, [1, 2, 3, 4, 5], range(2, 8)))\n"
   ]
  },
  {
   "cell_type": "code",
   "execution_count": null,
   "metadata": {},
   "outputs": [
    {
     "name": "stdout",
     "output_type": "stream",
     "text": [
      "<filter object at 0x0000023D1731AE00>\n",
      "[1, 3, 5, 7, 9]\n",
      "[25]\n"
     ]
    }
   ],
   "source": [
    "# Functional programming: filter\n",
    "# Takes out the elements from sequence which are not true or truthy\n",
    "print(filter(lambda x: x % 2 != 0, range(10)))\n",
    "print(list(filter(lambda x: x % 2 != 0, range(10))))\n",
    "\n",
    "xs = [0, None, {}, [], \"\", 25]\n",
    "print(list(filter(None, xs)))\n"
   ]
  },
  {
   "cell_type": "code",
   "execution_count": null,
   "metadata": {},
   "outputs": [
    {
     "name": "stdout",
     "output_type": "stream",
     "text": [
      "[('a', 0, 33j), ('b', 1, 33j), ('c', 2, 33j)]\n",
      "[('a', 0), ('b', 1), ('c', 2)]\n",
      "[('a', 0), ('b', 1), ('c', 2)]\n"
     ]
    }
   ],
   "source": [
    "# Functional programming: zip\n",
    "# Builds a sequence of tuples from elements of several sequences\n",
    "\n",
    "print(list(zip(\"abc\", range(3), [33j, 33j, 33j])))\n",
    "\n",
    "# Behaviour in case of sequences of different lengths is similar to 'map'.\n",
    "print(list(zip(\"abc\", range(10))))\n",
    "\n",
    "# Expressing zip using map:\n",
    "print(list(map(lambda *args: args, \"abc\", range(10))))\n"
   ]
  },
  {
   "cell_type": "code",
   "execution_count": null,
   "metadata": {},
   "outputs": [
    {
     "name": "stdout",
     "output_type": "stream",
     "text": [
      "[1, 9, 25, 49, 81]\n",
      "[1, 9, 25, 49, 81]\n",
      "[0, 1, 2, 3, 4, 8, 9]\n"
     ]
    }
   ],
   "source": [
    "# Functional programming: list generators\n",
    "# 'x & 1' is the same as 'x % 2'\n",
    "print([x ** 2 for x in range(10) if x & 1 == 1])\n",
    "\n",
    "# List generators are compact alternative for combinations 'map' and 'filter':\n",
    "print(list(map(lambda x: x ** 2, filter(lambda x: x % 2 == 1, range(10)))))\n",
    "\n",
    "# List generators can be nested\n",
    "nested = [range(5), range(8, 10)]\n",
    "print([x for xs in nested for x in xs])  # flatten\n"
   ]
  },
  {
   "cell_type": "code",
   "execution_count": null,
   "metadata": {},
   "outputs": [
    {
     "name": "stdout",
     "output_type": "stream",
     "text": [
      "{1, 2, 5, 6}\n",
      "{'year': 2022, 'month': 'September'}\n",
      "{0: 0, 1: 1, 2: 4, 3: 9}\n"
     ]
    }
   ],
   "source": [
    "# Functional programming: set generators, dictionary generators\n",
    "print({x % 7 for x in [1, 9, 16, -1, 2, 5]})\n",
    "date = {\"year\": 2022, \"month\": \"September\", \"day\": \"\"}\n",
    "# v is falsy in case of \"day\", so it won't be printed\n",
    "print({k: v for k, v in date.items() if v})\n",
    "print({x: x ** 2 for x in range(4)})\n"
   ]
  },
  {
   "cell_type": "code",
   "execution_count": null,
   "metadata": {},
   "outputs": [],
   "source": [
    "# PEP 8:\n",
    "#\n",
    "# Basic recommendations:\n",
    "# - 4 spaces for tabs\n",
    "# - lower_case_with_underscores for variables and function names\n",
    "# - UPPER_CASE_WITH_UNDERSCORES for constants\n",
    "#\n",
    "# For operators in comparisons and conditions:\n",
    "# - in boolean values we need to the object itself or 'not' operator, for example:\n",
    "# if foo:\n",
    "# while not bar:\n",
    "# - We need to check the absence fo the element in the dictionary using 'not in' operator:\n",
    "# if key not in dict:\n",
    "#\n",
    "# Instruments:\n",
    "# $ pip install pep8\n",
    "# $ pep8 ./file.py\n",
    "#\n",
    "# $ pip install autopep8\n",
    "# $ autopep8 -v ./file.py\n",
    "#\n",
    "# KEEP CALM AND FOLLOW PEP 8\n"
   ]
  }
 ],
 "metadata": {
  "kernelspec": {
   "display_name": "Python 3.10.6 64-bit",
   "language": "python",
   "name": "python3"
  },
  "language_info": {
   "codemirror_mode": {
    "name": "ipython",
    "version": 3
   },
   "file_extension": ".py",
   "mimetype": "text/x-python",
   "name": "python",
   "nbconvert_exporter": "python",
   "pygments_lexer": "ipython3",
   "version": "3.10.6"
  },
  "orig_nbformat": 4,
  "vscode": {
   "interpreter": {
    "hash": "f913ba3e57e76821e421a89bd7bb9694390d9cda7e9a881ba7e93febeab53170"
   }
  }
 },
 "nbformat": 4,
 "nbformat_minor": 2
}
